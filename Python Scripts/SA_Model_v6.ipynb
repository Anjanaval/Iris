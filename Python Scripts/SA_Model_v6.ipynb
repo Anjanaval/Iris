{
 "cells": [
  {
   "cell_type": "code",
   "execution_count": 1,
   "id": "9f6f8310",
   "metadata": {},
   "outputs": [
    {
     "name": "stdout",
     "output_type": "stream",
     "text": [
      "Using TensorFlow version 2.6.0\n"
     ]
    }
   ],
   "source": [
    "%matplotlib inline\n",
    "\n",
    "import tensorflow as tf\n",
    "import numpy as np\n",
    "import pandas as pd\n",
    "import matplotlib.pyplot as plt\n",
    "import nltk\n",
    "import random\n",
    "\n",
    "\n",
    "def show_history(h):\n",
    "    epochs_trained = len(h.history['loss'])\n",
    "    plt.figure(figsize=(16, 6))\n",
    "\n",
    "    plt.subplot(1, 2, 1)\n",
    "    plt.plot(range(0, epochs_trained), h.history.get('accuracy'), label='Training')\n",
    "    plt.plot(range(0, epochs_trained), h.history.get('val_accuracy'), label='Validation')\n",
    "    plt.ylim([0., 1.])\n",
    "    plt.xlabel('Epochs')\n",
    "    plt.ylabel('Accuracy')\n",
    "    plt.legend()\n",
    "\n",
    "    plt.subplot(1, 2, 2)\n",
    "    plt.plot(range(0, epochs_trained), h.history.get('loss'), label='Training')\n",
    "    plt.plot(range(0, epochs_trained), h.history.get('val_loss'), label='Validation')\n",
    "    plt.xlabel('Epochs')\n",
    "    plt.ylabel('Loss')\n",
    "    plt.legend()\n",
    "    plt.show()\n",
    "\n",
    "    \n",
    "def show_confusion_matrix(y_true, y_pred, classes):\n",
    "    from sklearn.metrics import confusion_matrix\n",
    "    \n",
    "    cm = confusion_matrix(y_true, y_pred, normalize='true')\n",
    "\n",
    "    plt.figure(figsize=(8, 8))\n",
    "    sp = plt.subplot(1, 1, 1)\n",
    "    ctx = sp.matshow(cm)\n",
    "    plt.xticks(list(range(0, 6)), labels=classes)\n",
    "    plt.yticks(list(range(0, 6)), labels=classes)\n",
    "    plt.colorbar(ctx)\n",
    "    plt.show()\n",
    "\n",
    "    \n",
    "print('Using TensorFlow version', tf.__version__)"
   ]
  },
  {
   "cell_type": "code",
   "execution_count": 2,
   "id": "e8a44263",
   "metadata": {},
   "outputs": [
    {
     "data": {
      "text/html": [
       "<div>\n",
       "<style scoped>\n",
       "    .dataframe tbody tr th:only-of-type {\n",
       "        vertical-align: middle;\n",
       "    }\n",
       "\n",
       "    .dataframe tbody tr th {\n",
       "        vertical-align: top;\n",
       "    }\n",
       "\n",
       "    .dataframe thead th {\n",
       "        text-align: right;\n",
       "    }\n",
       "</style>\n",
       "<table border=\"1\" class=\"dataframe\">\n",
       "  <thead>\n",
       "    <tr style=\"text-align: right;\">\n",
       "      <th></th>\n",
       "      <th>text</th>\n",
       "    </tr>\n",
       "    <tr>\n",
       "      <th>label</th>\n",
       "      <th></th>\n",
       "    </tr>\n",
       "  </thead>\n",
       "  <tbody>\n",
       "    <tr>\n",
       "      <th>anger</th>\n",
       "      <td>1079</td>\n",
       "    </tr>\n",
       "    <tr>\n",
       "      <th>fear</th>\n",
       "      <td>1076</td>\n",
       "    </tr>\n",
       "    <tr>\n",
       "      <th>joy</th>\n",
       "      <td>1092</td>\n",
       "    </tr>\n",
       "    <tr>\n",
       "      <th>sadness</th>\n",
       "      <td>1082</td>\n",
       "    </tr>\n",
       "  </tbody>\n",
       "</table>\n",
       "</div>"
      ],
      "text/plain": [
       "         text\n",
       "label        \n",
       "anger    1079\n",
       "fear     1076\n",
       "joy      1092\n",
       "sadness  1082"
      ]
     },
     "execution_count": 2,
     "metadata": {},
     "output_type": "execute_result"
    }
   ],
   "source": [
    "ISEAR_dataset = pd.read_csv('G:\\My Drive\\AnjanaValsalan_ECNG 3020\\Implementation Files\\Datasets\\ISEAR csv\\ISEAR.csv')\n",
    "ISEAR_dataset.dropna(axis=1, how=\"any\", thresh=None, subset=None, inplace=True)\n",
    "ISEAR_dataset = ISEAR_dataset[ISEAR_dataset.emotion != 'disgust']\n",
    "ISEAR_dataset = ISEAR_dataset[ISEAR_dataset.emotion != 'shame']\n",
    "ISEAR_dataset = ISEAR_dataset[ISEAR_dataset.emotion != 'guilt']\n",
    "ISEAR_dataset = ISEAR_dataset[[\"sentence\", \"emotion\"]]\n",
    "ISEAR_dataset = ISEAR_dataset.rename(columns={'sentence':'text','emotion':'label'})\n",
    "ISEAR_dataset.groupby(['label']).count()"
   ]
  },
  {
   "cell_type": "code",
   "execution_count": 3,
   "id": "d6d384d9",
   "metadata": {},
   "outputs": [],
   "source": [
    "for index, row in ISEAR_dataset.iterrows():\n",
    "    row[\"text\"] = row[\"text\"].strip().replace(\"   \",\" \").replace(\"  \",\" \").replace(\"\\n\",\"\")"
   ]
  },
  {
   "cell_type": "code",
   "execution_count": 4,
   "id": "078696dd",
   "metadata": {},
   "outputs": [],
   "source": [
    "ISEAR_train = ISEAR_dataset[0: int(0.8*len(ISEAR_dataset))]\n",
    "ISEAR_val = ISEAR_dataset[int(0.8*len(ISEAR_dataset)):int(0.9*len(ISEAR_dataset))]\n",
    "ISEAR_test = ISEAR_dataset[int(0.9*len(ISEAR_dataset)):]"
   ]
  },
  {
   "cell_type": "code",
   "execution_count": 5,
   "id": "8584a7cd",
   "metadata": {},
   "outputs": [
    {
     "name": "stdout",
     "output_type": "stream",
     "text": [
      "                                                   text    label\n",
      "0     On days when I feel close to my partner and ot...      joy\n",
      "1     Every time I imagine that someone I love or I ...     fear\n",
      "2     When I had been obviously unjustly treated and...    anger\n",
      "3     When I think about the short time that we live...  sadness\n",
      "7     After my girlfriend had taken her exam we went...      joy\n",
      "...                                                 ...      ...\n",
      "6001  I felt angry when repeated pleas to the ticket...    anger\n",
      "6002  I am filled with gloom and sadness at the deat...  sadness\n",
      "6006  When India first won the world cup cricket tou...      joy\n",
      "6007  I was then in the 10th standard and was going ...     fear\n",
      "6008  I was travelling from Delhi to Bombay. I had b...    anger\n",
      "\n",
      "[3463 rows x 2 columns]\n"
     ]
    }
   ],
   "source": [
    "print(ISEAR_train)"
   ]
  },
  {
   "cell_type": "code",
   "execution_count": 6,
   "id": "2158b4e3",
   "metadata": {},
   "outputs": [
    {
     "name": "stderr",
     "output_type": "stream",
     "text": [
      "Using custom data configuration default\n",
      "Reusing dataset emotion (C:\\Users\\valsa\\.cache\\huggingface\\datasets\\emotion\\default\\0.0.0\\348f63ca8e27b3713b6c04d723efe6d824a56fb3d1449794716c0f0296072705)\n"
     ]
    },
    {
     "data": {
      "application/vnd.jupyter.widget-view+json": {
       "model_id": "9a4bce9406c24fdc8001da185771ab82",
       "version_major": 2,
       "version_minor": 0
      },
      "text/plain": [
       "  0%|          | 0/3 [00:00<?, ?it/s]"
      ]
     },
     "metadata": {},
     "output_type": "display_data"
    }
   ],
   "source": [
    "from datasets import load_dataset\n",
    "dataset = load_dataset(\"emotion\")"
   ]
  },
  {
   "cell_type": "code",
   "execution_count": 7,
   "id": "4eb4c838",
   "metadata": {},
   "outputs": [],
   "source": [
    "dataset.set_format(type=\"pandas\")\n",
    "train = dataset[\"train\"][:]\n",
    "test = dataset[\"test\"][:]\n",
    "val = dataset[\"validation\"][:]"
   ]
  },
  {
   "cell_type": "code",
   "execution_count": 8,
   "id": "6d2a31f1",
   "metadata": {},
   "outputs": [],
   "source": [
    "# train = train[train.label != 2]\n",
    "# train = train[train.label != 5]\n",
    "frames = [ISEAR_train, train]\n",
    "train = pd.concat(frames)\n",
    "train = train.reset_index(drop=True)\n",
    "\n",
    "# test = test[test.label != 2]\n",
    "# test = test[test.label != 5]\n",
    "frames = [ISEAR_test, test]\n",
    "test = pd.concat(frames)\n",
    "test = test.reset_index(drop=True)\n",
    "\n",
    "# val = val[val.label != 2]\n",
    "# val = val[val.label != 5]\n",
    "frames = [ISEAR_val, val]\n",
    "val = pd.concat(frames)\n",
    "val = val.reset_index(drop=True)"
   ]
  },
  {
   "cell_type": "code",
   "execution_count": 9,
   "id": "5779f865",
   "metadata": {},
   "outputs": [],
   "source": [
    "def get_tweet(data):\n",
    "    tweets = data['text']\n",
    "    labels = data['label']\n",
    "    labels = labels.replace([0,1,2,3,4,5],['sadness','joy','love','anger','fear','surprise'])\n",
    "    return tweets, labels"
   ]
  },
  {
   "cell_type": "code",
   "execution_count": 10,
   "id": "510d4a46",
   "metadata": {},
   "outputs": [],
   "source": [
    "tweets, labels = get_tweet(train)"
   ]
  },
  {
   "cell_type": "code",
   "execution_count": 11,
   "id": "3ac81801",
   "metadata": {},
   "outputs": [
    {
     "name": "stdout",
     "output_type": "stream",
     "text": [
      "                                                    text    label\n",
      "0      On days when I feel close to my partner and ot...      joy\n",
      "1      Every time I imagine that someone I love or I ...     fear\n",
      "2      When I had been obviously unjustly treated and...    anger\n",
      "3      When I think about the short time that we live...  sadness\n",
      "4      After my girlfriend had taken her exam we went...      joy\n",
      "...                                                  ...      ...\n",
      "19458  i just had a very brief time in the beanbag an...        0\n",
      "19459  i am now turning and i feel pathetic that i am...        0\n",
      "19460                     i feel strong and good overall        1\n",
      "19461  i feel like this was such a rude comment and i...        3\n",
      "19462  i know a lot but i feel so stupid because i ca...        0\n",
      "\n",
      "[19463 rows x 2 columns]\n"
     ]
    }
   ],
   "source": [
    "print(train)"
   ]
  },
  {
   "cell_type": "code",
   "execution_count": 12,
   "id": "79f87832",
   "metadata": {},
   "outputs": [],
   "source": [
    "from tensorflow.keras.preprocessing.text import Tokenizer"
   ]
  },
  {
   "cell_type": "code",
   "execution_count": 13,
   "id": "0df6fd3c",
   "metadata": {},
   "outputs": [],
   "source": [
    "tokenizer = Tokenizer(num_words=10000, oov_token='<UNK>')\n",
    "tokenizer.fit_on_texts(tweets)"
   ]
  },
  {
   "cell_type": "code",
   "execution_count": 14,
   "id": "53051c6c",
   "metadata": {},
   "outputs": [
    {
     "data": {
      "text/plain": [
       "[[168, 45, 2, 946, 10, 136, 2, 89, 38, 2, 83, 1213, 7, 1241, 1145, 80, 344]]"
      ]
     },
     "execution_count": 14,
     "metadata": {},
     "output_type": "execute_result"
    }
   ],
   "source": [
    "tokenizer.texts_to_sequences([tweets[1]])"
   ]
  },
  {
   "cell_type": "code",
   "execution_count": 15,
   "id": "ea76037a",
   "metadata": {},
   "outputs": [
    {
     "data": {
      "text/plain": [
       "'Every time I imagine that someone I love or I could contact a serious illness, even death.'"
      ]
     },
     "execution_count": 15,
     "metadata": {},
     "output_type": "execute_result"
    }
   ],
   "source": [
    "tweets[1]"
   ]
  },
  {
   "cell_type": "code",
   "execution_count": 16,
   "id": "a35eece0",
   "metadata": {},
   "outputs": [
    {
     "data": {
      "text/plain": [
       "<function matplotlib.pyplot.show(close=None, block=None)>"
      ]
     },
     "execution_count": 16,
     "metadata": {},
     "output_type": "execute_result"
    },
    {
     "data": {
      "image/png": "[encoded data removed]",
      "text/plain": [
       "<Figure size 432x288 with 1 Axes>"
      ]
     },
     "metadata": {
      "needs_background": "light"
     },
     "output_type": "display_data"
    }
   ],
   "source": [
    "lengths = [len(t.split(' ')) for t in tweets]\n",
    "plt.hist(lengths, bins = len(set(lengths)))\n",
    "plt.show"
   ]
  },
  {
   "cell_type": "code",
   "execution_count": 17,
   "id": "addd4297",
   "metadata": {},
   "outputs": [],
   "source": [
    "maxlen = 50\n",
    "from tensorflow.keras.preprocessing.sequence import pad_sequences"
   ]
  },
  {
   "cell_type": "code",
   "execution_count": 18,
   "id": "2a37d030",
   "metadata": {},
   "outputs": [],
   "source": [
    "def get_sequences(tokenizer, tweets):\n",
    "  sequences = tokenizer.texts_to_sequences(tweets)\n",
    "  padded = pad_sequences(sequences, truncating='post' , padding='post', maxlen = maxlen)\n",
    "  return padded"
   ]
  },
  {
   "cell_type": "code",
   "execution_count": 19,
   "id": "687ac355",
   "metadata": {},
   "outputs": [],
   "source": [
    "padded_train_seq = get_sequences(tokenizer, tweets)"
   ]
  },
  {
   "cell_type": "code",
   "execution_count": 20,
   "id": "8640f02e",
   "metadata": {},
   "outputs": [
    {
     "data": {
      "text/plain": [
       "array([[ 30, 157,  17, ...,   0,   0,   0],\n",
       "       [168,  45,   2, ...,   0,   0,   0],\n",
       "       [ 17,   2,  32, ...,   0,   0,   0],\n",
       "       ...,\n",
       "       [  2,   4, 370, ...,   0,   0,   0],\n",
       "       [  2,   4,  18, ...,   0,   0,   0],\n",
       "       [  2,  53,   7, ...,   0,   0,   0]])"
      ]
     },
     "execution_count": 20,
     "metadata": {},
     "output_type": "execute_result"
    }
   ],
   "source": [
    "padded_train_seq"
   ]
  },
  {
   "cell_type": "code",
   "execution_count": 21,
   "id": "afef3ad0",
   "metadata": {},
   "outputs": [
    {
     "name": "stdout",
     "output_type": "stream",
     "text": [
      "{'anger', 'joy', 'sadness', 'fear', 'love', 'surprise'}\n"
     ]
    }
   ],
   "source": [
    "classes = set(labels)\n",
    "print(classes)"
   ]
  },
  {
   "cell_type": "code",
   "execution_count": 22,
   "id": "81e6bdfb",
   "metadata": {},
   "outputs": [
    {
     "data": {
      "image/png": "[encoded data removed]",
      "text/plain": [
       "<Figure size 432x288 with 1 Axes>"
      ]
     },
     "metadata": {
      "needs_background": "light"
     },
     "output_type": "display_data"
    }
   ],
   "source": [
    "plt.hist(labels, bins=11)\n",
    "plt.show()"
   ]
  },
  {
   "cell_type": "code",
   "execution_count": 23,
   "id": "ed68e501",
   "metadata": {},
   "outputs": [],
   "source": [
    "class_to_index = dict((c,i) for i, c in enumerate(classes))\n",
    "index_to_class = dict((v, k) for k, v in class_to_index.items())"
   ]
  },
  {
   "cell_type": "code",
   "execution_count": 24,
   "id": "c333e971",
   "metadata": {},
   "outputs": [
    {
     "data": {
      "text/plain": [
       "{'anger': 0, 'joy': 1, 'sadness': 2, 'fear': 3, 'love': 4, 'surprise': 5}"
      ]
     },
     "execution_count": 24,
     "metadata": {},
     "output_type": "execute_result"
    }
   ],
   "source": [
    "class_to_index"
   ]
  },
  {
   "cell_type": "code",
   "execution_count": 25,
   "id": "4c71dd58",
   "metadata": {},
   "outputs": [
    {
     "data": {
      "text/plain": [
       "{0: 'anger', 1: 'joy', 2: 'sadness', 3: 'fear', 4: 'love', 5: 'surprise'}"
      ]
     },
     "execution_count": 25,
     "metadata": {},
     "output_type": "execute_result"
    }
   ],
   "source": [
    "index_to_class"
   ]
  },
  {
   "cell_type": "code",
   "execution_count": 26,
   "id": "43a08207",
   "metadata": {},
   "outputs": [],
   "source": [
    "names_to_ids = lambda labels: np.array([class_to_index.get(x) for x in labels])"
   ]
  },
  {
   "cell_type": "code",
   "execution_count": 27,
   "id": "fe8afd18",
   "metadata": {},
   "outputs": [
    {
     "name": "stdout",
     "output_type": "stream",
     "text": [
      "1\n"
     ]
    }
   ],
   "source": [
    "train_labels = names_to_ids(labels)\n",
    "print(train_labels[0])"
   ]
  },
  {
   "cell_type": "code",
   "execution_count": 28,
   "id": "82dc21b6",
   "metadata": {},
   "outputs": [],
   "source": [
    "model = tf.keras.models.Sequential([\n",
    "        tf.keras.layers.Embedding(10000, 16, input_length=maxlen),\n",
    "        tf.keras.layers.Bidirectional(tf.keras.layers.LSTM(64, return_sequences=True)),\n",
    "        tf.keras.layers.Bidirectional(tf.keras.layers.LSTM(64)),\n",
    "        tf.keras.layers.Dropout(.25, input_shape=(2,)),\n",
    "        tf.keras.layers.Dense(6, activation='softmax')\n",
    "])\n",
    "\n",
    "model.compile(\n",
    "    loss='sparse_categorical_crossentropy',\n",
    "    optimizer='adam',\n",
    "    metrics=['accuracy']\n",
    ")"
   ]
  },
  {
   "cell_type": "code",
   "execution_count": 29,
   "id": "55055da2",
   "metadata": {},
   "outputs": [
    {
     "name": "stdout",
     "output_type": "stream",
     "text": [
      "Model: \"sequential\"\n",
      "_________________________________________________________________\n",
      "Layer (type)                 Output Shape              Param #   \n",
      "=================================================================\n",
      "embedding (Embedding)        (None, 50, 16)            160000    \n",
      "_________________________________________________________________\n",
      "bidirectional (Bidirectional (None, 50, 128)           41472     \n",
      "_________________________________________________________________\n",
      "bidirectional_1 (Bidirection (None, 128)               98816     \n",
      "_________________________________________________________________\n",
      "dropout (Dropout)            (None, 128)               0         \n",
      "_________________________________________________________________\n",
      "dense (Dense)                (None, 6)                 774       \n",
      "=================================================================\n",
      "Total params: 301,062\n",
      "Trainable params: 301,062\n",
      "Non-trainable params: 0\n",
      "_________________________________________________________________\n"
     ]
    }
   ],
   "source": [
    "model.summary()"
   ]
  },
  {
   "cell_type": "code",
   "execution_count": 30,
   "id": "2c2ecfd9",
   "metadata": {},
   "outputs": [],
   "source": [
    "val_tweets, val_labels = get_tweet(val)\n",
    "val_seq = get_sequences(tokenizer, val_tweets)\n",
    "val_labels = names_to_ids(val_labels)"
   ]
  },
  {
   "cell_type": "code",
   "execution_count": 31,
   "id": "e6e1a7e9",
   "metadata": {},
   "outputs": [
    {
     "data": {
      "text/plain": [
       "('The news of the natural calamity, an earthquake in which hundreds of Mexican people died.',\n",
       " 2)"
      ]
     },
     "execution_count": 31,
     "metadata": {},
     "output_type": "execute_result"
    }
   ],
   "source": [
    "val_tweets[0], val_labels[0]"
   ]
  },
  {
   "cell_type": "code",
   "execution_count": 32,
   "id": "ab409216",
   "metadata": {},
   "outputs": [
    {
     "name": "stdout",
     "output_type": "stream",
     "text": [
      "Epoch 1/30\n",
      "609/609 [==============================] - 19s 18ms/step - loss: 1.2076 - accuracy: 0.5043 - val_loss: 0.7361 - val_accuracy: 0.7119\n",
      "Epoch 2/30\n",
      "609/609 [==============================] - 10s 16ms/step - loss: 0.5156 - accuracy: 0.8178 - val_loss: 0.4272 - val_accuracy: 0.8594\n",
      "Epoch 3/30\n",
      "609/609 [==============================] - 10s 16ms/step - loss: 0.3016 - accuracy: 0.8984 - val_loss: 0.3570 - val_accuracy: 0.8738\n",
      "Epoch 4/30\n",
      "609/609 [==============================] - 10s 16ms/step - loss: 0.2191 - accuracy: 0.9241 - val_loss: 0.4168 - val_accuracy: 0.8693\n",
      "Epoch 5/30\n",
      "609/609 [==============================] - 10s 16ms/step - loss: 0.1705 - accuracy: 0.9411 - val_loss: 0.4018 - val_accuracy: 0.8660\n"
     ]
    }
   ],
   "source": [
    "h = model.fit(\n",
    "    padded_train_seq, train_labels,\n",
    "    validation_data=(val_seq, val_labels),\n",
    "    epochs=30,\n",
    "    callbacks=[\n",
    "               tf.keras.callbacks.EarlyStopping(monitor='val_accuracy', patience=2)\n",
    "    ]\n",
    ")"
   ]
  },
  {
   "cell_type": "code",
   "execution_count": 33,
   "id": "de395e9f",
   "metadata": {},
   "outputs": [
    {
     "data": {
      "image/png": "[encoded data removed]",
      "text/plain": [
       "<Figure size 1152x432 with 2 Axes>"
      ]
     },
     "metadata": {
      "needs_background": "light"
     },
     "output_type": "display_data"
    }
   ],
   "source": [
    "show_history(h)"
   ]
  },
  {
   "cell_type": "code",
   "execution_count": 34,
   "id": "489a6064",
   "metadata": {},
   "outputs": [],
   "source": [
    "test_tweets, test_labels = get_tweet(test)\n",
    "test_seq = get_sequences(tokenizer, test_tweets)\n",
    "test_labels = names_to_ids(test_labels)"
   ]
  },
  {
   "cell_type": "code",
   "execution_count": 35,
   "id": "dacd9097",
   "metadata": {},
   "outputs": [
    {
     "name": "stdout",
     "output_type": "stream",
     "text": [
      "77/77 [==============================] - 1s 7ms/step - loss: 0.4690 - accuracy: 0.8376\n"
     ]
    }
   ],
   "source": [
    "_=model.evaluate(test_seq, test_labels)"
   ]
  },
  {
   "cell_type": "code",
   "execution_count": 36,
   "id": "be5c1a79",
   "metadata": {},
   "outputs": [
    {
     "name": "stdout",
     "output_type": "stream",
     "text": [
      "Sentence: i feel sorta vain\n",
      "Emotion: sadness\n",
      "Predicted Emotion: sadness\n"
     ]
    }
   ],
   "source": [
    "i = random.randint(0, len(test_labels) - 1)\n",
    "\n",
    "print('Sentence:', test_tweets[i])\n",
    "print('Emotion:', index_to_class[test_labels[i]])\n",
    "\n",
    "p = model.predict(np.expand_dims(test_seq[i], axis=0))[0]\n",
    "pred_class = index_to_class[np.argmax(p).astype('uint8')]\n",
    "\n",
    "print('Predicted Emotion:', pred_class)"
   ]
  },
  {
   "cell_type": "code",
   "execution_count": 37,
   "id": "3f45be1e",
   "metadata": {},
   "outputs": [],
   "source": [
    "preds = np.argmax(model.predict(test_seq), axis=-1)"
   ]
  },
  {
   "cell_type": "code",
   "execution_count": 38,
   "id": "697a2473",
   "metadata": {},
   "outputs": [
    {
     "data": {
      "image/png": "[encoded data removed]",
      "text/plain": [
       "<Figure size 576x576 with 2 Axes>"
      ]
     },
     "metadata": {
      "needs_background": "light"
     },
     "output_type": "display_data"
    }
   ],
   "source": [
    "show_confusion_matrix(test_labels, preds, list(classes))"
   ]
  },
  {
   "cell_type": "code",
   "execution_count": 39,
   "id": "39d3cb03",
   "metadata": {},
   "outputs": [
    {
     "name": "stderr",
     "output_type": "stream",
     "text": [
      "WARNING:absl:Found untraced functions such as lstm_cell_1_layer_call_fn, lstm_cell_1_layer_call_and_return_conditional_losses, lstm_cell_2_layer_call_fn, lstm_cell_2_layer_call_and_return_conditional_losses, lstm_cell_4_layer_call_fn while saving (showing 5 of 20). These functions will not be directly callable after loading.\n"
     ]
    },
    {
     "name": "stdout",
     "output_type": "stream",
     "text": [
      "INFO:tensorflow:Assets written to: C:/Users/valsa/OneDrive - The University of the West Indies, St. Augustine/Final Year/ECNG 3020/Python Scripts/SA_Model_Final_05012022_10_28_19\\assets\n"
     ]
    },
    {
     "name": "stderr",
     "output_type": "stream",
     "text": [
      "INFO:tensorflow:Assets written to: C:/Users/valsa/OneDrive - The University of the West Indies, St. Augustine/Final Year/ECNG 3020/Python Scripts/SA_Model_Final_05012022_10_28_19\\assets\n"
     ]
    }
   ],
   "source": [
    "from datetime import datetime\n",
    "model.save(\"C:/Users/valsa/OneDrive - The University of the West Indies, St. Augustine/Final Year/ECNG 3020/Python Scripts/SA_Model_Final_{}\".format(datetime.now().strftime(\"%d%m%Y_%H_%M_%S\")))"
   ]
  },
  {
   "cell_type": "code",
   "execution_count": null,
   "id": "79eb37f6",
   "metadata": {},
   "outputs": [],
   "source": []
  }
 ],
 "metadata": {
  "kernelspec": {
   "display_name": "Python [conda env:ECNG3020] *",
   "language": "python",
   "name": "conda-env-ECNG3020-py"
  },
  "language_info": {
   "codemirror_mode": {
    "name": "ipython",
    "version": 3
   },
   "file_extension": ".py",
   "mimetype": "text/x-python",
   "name": "python",
   "nbconvert_exporter": "python",
   "pygments_lexer": "ipython3",
   "version": "3.8.8"
  }
 },
 "nbformat": 4,
 "nbformat_minor": 5
}
