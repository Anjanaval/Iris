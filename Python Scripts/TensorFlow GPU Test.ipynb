{
 "cells": [
  {
   "cell_type": "code",
   "execution_count": 1,
   "id": "87b6ecb3",
   "metadata": {},
   "outputs": [
    {
     "name": "stdout",
     "output_type": "stream",
     "text": [
      "2.5.0\n"
     ]
    }
   ],
   "source": [
    "# first import tensorflow\n",
    "import tensorflow as tf\n",
    "\n",
    "# Check the tensorflow version\n",
    "# If this results in an error, probably there is something wrong with the installation\n",
    "print(tf.__version__)"
   ]
  },
  {
   "cell_type": "code",
   "execution_count": 2,
   "id": "b251201b",
   "metadata": {},
   "outputs": [
    {
     "data": {
      "text/plain": [
       "[PhysicalDevice(name='/physical_device:GPU:0', device_type='GPU')]"
      ]
     },
     "execution_count": 2,
     "metadata": {},
     "output_type": "execute_result"
    }
   ],
   "source": [
    "# Instant validation\n",
    "tf.config.list_physical_devices('GPU')"
   ]
  },
  {
   "cell_type": "code",
   "execution_count": 3,
   "id": "7eb3034a",
   "metadata": {},
   "outputs": [
    {
     "name": "stdout",
     "output_type": "stream",
     "text": [
      "################## GPU: 0 ##########################\n",
      "Device Type: GPU\n",
      "GPU ID: /device:GPU:0\n",
      "Physical Device Description:\n",
      "\tdevice: 0, name: NVIDIA GeForce RTX 2060, pci bus id: 0000:01:00.0, compute capability: 7.5\n",
      "####################################################\n"
     ]
    }
   ],
   "source": [
    "# Import Tensorflow utility device_lib to get more information about the GPU\n",
    "# This will help verify if TF is using the intended GPU\n",
    "from tensorflow.python.client import device_lib\n",
    "\n",
    "# Helper function to get information about all available GPUs in a list\n",
    "def get_available_gpus():\n",
    "    local_device_protos = device_lib.list_local_devices()\n",
    "    return [x for x in local_device_protos if x.device_type == 'GPU']\n",
    "    \n",
    "\n",
    "# Get information of all available GPUs\n",
    "gpu_info = get_available_gpus()\n",
    "\n",
    "# Display GPU information\n",
    "for i, gpu in enumerate(gpu_info):\n",
    "    print(f\"################## GPU: {i} ##########################\")\n",
    "    print(f\"Device Type: {gpu.device_type}\")\n",
    "    print(f\"GPU ID: {gpu.name}\")\n",
    "    print(f\"Physical Device Description:\\n\\t{gpu.physical_device_desc}\")\n",
    "    print(\"####################################################\")"
   ]
  },
  {
   "cell_type": "code",
   "execution_count": null,
   "id": "d9855eda",
   "metadata": {},
   "outputs": [],
   "source": []
  }
 ],
 "metadata": {
  "kernelspec": {
   "display_name": "Python [conda env:ECNG3020] *",
   "language": "python",
   "name": "conda-env-ECNG3020-py"
  },
  "language_info": {
   "codemirror_mode": {
    "name": "ipython",
    "version": 3
   },
   "file_extension": ".py",
   "mimetype": "text/x-python",
   "name": "python",
   "nbconvert_exporter": "python",
   "pygments_lexer": "ipython3",
   "version": "3.8.8"
  }
 },
 "nbformat": 4,
 "nbformat_minor": 5
}
